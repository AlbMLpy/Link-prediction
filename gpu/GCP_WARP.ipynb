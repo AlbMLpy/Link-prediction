{
 "cells": [
  {
   "cell_type": "code",
   "execution_count": 1,
   "id": "e49eb867-b969-42b3-a88b-3752b13d97f1",
   "metadata": {},
   "outputs": [],
   "source": [
    "import torch\n",
    "from torch import nn\n",
    "from torch import optim\n",
    "from torch.optim.lr_scheduler import StepLR\n",
    "from torch.nn.init import xavier_normal_\n",
    "from torch.utils.data import DataLoader, Dataset, random_split\n",
    "from torch.autograd import Variable, Function\n",
    "from torch.nn.parameter import Parameter\n",
    "\n",
    "import random\n",
    "\n",
    "from sklearn.metrics import mean_squared_error\n",
    "from numpy.linalg import solve\n",
    "from scipy.sparse import csr_matrix\n",
    "\n",
    "import numpy as np\n",
    "import pandas as pd\n",
    "from numba import jit\n",
    "\n",
    "import matplotlib.pyplot as plt\n",
    "import seaborn as sns\n",
    "\n",
    "import pickle\n",
    "import time\n",
    "from timeit import default_timer as timer\n",
    "\n",
    "from general_functions1 import sqrt_err_relative, check_coo_tensor, gen_coo_tensor\n",
    "import evaluation_functions as ef\n",
    "\n",
    "from t_alg import mttcrp, mttcrp1, get_elem_deriv_tensor, factors_to_tensor\n",
    "from t_alg import gcp_grad, multi_ind_to_indices, indices_to_multi_ind\n",
    "\n",
    "from samplings import give_ns, generate_data\n",
    "from elementwise_grads import bernoulli_logit_loss, bernoulli_logit_loss_grad\n",
    "\n",
    "%matplotlib inline"
   ]
  },
  {
   "cell_type": "markdown",
   "id": "97e36396-553c-43c5-be87-969d0b47179c",
   "metadata": {},
   "source": [
    "## Load the data:"
   ]
  },
  {
   "cell_type": "code",
   "execution_count": 2,
   "id": "b35338e9-da65-4786-a292-1d531735bbe7",
   "metadata": {},
   "outputs": [],
   "source": [
    "path_data = \"/notebook/Relations_Learning/Link_Prediction_Data/FB15K237/\"\n",
    "entity_list = pickle.load(open(path_data + 'entity_list', 'rb'))\n",
    "relation_list = pickle.load(open(path_data + 'relation_list', 'rb'))\n",
    "\n",
    "train_triples = pickle.load(open(path_data + 'train_triples', 'rb'))\n",
    "valid_triples = pickle.load(open(path_data + 'valid_triples', 'rb'))\n",
    "test_triples = pickle.load(open(path_data + 'test_triples', 'rb'))\n",
    "train_valid_triples = pickle.load(open(path_data + 'train_valid_triples', 'rb'))\n",
    "\n",
    "entity_map = pickle.load(open(path_data + 'entity_map', 'rb'))\n",
    "relation_map = pickle.load(open(path_data + 'relation_map', 'rb'))\n",
    "\n",
    "all_triples = train_valid_triples + test_triples"
   ]
  },
  {
   "cell_type": "code",
   "execution_count": 3,
   "id": "214a7bd3-c628-4557-a66d-dd4dfce1d53c",
   "metadata": {},
   "outputs": [
    {
     "name": "stdout",
     "output_type": "stream",
     "text": [
      "CPU times: user 641 ms, sys: 8.39 ms, total: 649 ms\n",
      "Wall time: 648 ms\n"
     ]
    }
   ],
   "source": [
    "%%time\n",
    "sample_positive = ef.create_filter(train_triples)\n",
    "ft = ef.create_filter(all_triples)"
   ]
  },
  {
   "cell_type": "code",
   "execution_count": 4,
   "id": "8f303afe-81d1-4ab3-a65d-1718fe032fd1",
   "metadata": {},
   "outputs": [
    {
     "name": "stdout",
     "output_type": "stream",
     "text": [
      "KG shape (sub., rel., obj.): (14541, 237, 14541);\n",
      "Num train samples: (272115,);\n"
     ]
    }
   ],
   "source": [
    "values = [1] * len(train_triples)\n",
    "values = np.array(values, dtype=np.int64)\n",
    "\n",
    "coords = np.array(train_triples, dtype=np.int64)\n",
    "nnz = len(train_triples)\n",
    "data_shape = (len(entity_list), len(relation_list), len(entity_list))\n",
    "\n",
    "print(f\"KG shape (sub., rel., obj.): {data_shape};\\nNum train samples: {values.shape};\")"
   ]
  },
  {
   "cell_type": "code",
   "execution_count": 5,
   "id": "57e54849-53bf-4e3a-a7b3-cad409ab395c",
   "metadata": {},
   "outputs": [],
   "source": [
    "class WARP(Function): \n",
    "    '''\n",
    "    autograd function of WARP loss\n",
    "    '''\n",
    "    @staticmethod\n",
    "    def forward(ctx, input, target, max_num_trials=None):\n",
    "        \n",
    "        batch_size = target.size()[0]\n",
    "        if max_num_trials is None: \n",
    "            max_num_trials = target.size()[1] - 1\n",
    "        \n",
    "        positive_indices = torch.zeros(input.size(), device=device)\n",
    "        negative_indices = torch.zeros(input.size(), device=device)\n",
    "        L = torch.zeros(input.size()[0], device=device)\n",
    "        \n",
    "        all_labels_idx = np.arange(target.size()[1])\n",
    "        \n",
    "        Y = float(target.size()[1])\n",
    "        J = torch.nonzero(target)\n",
    "        \n",
    "        for i in range(batch_size): \n",
    "            \n",
    "            msk = np.ones(target.size()[1], dtype = bool)\n",
    "            \n",
    "            # For i user in batch choose ONE item!\n",
    "            msk_J = J[:, 0] == i\n",
    "            indice = np.random.choice(np.arange(J[msk_J].shape[0]), 1)\n",
    "            #J[msk_J][indice].squeeze()[1]\n",
    "            \n",
    "            # Find the positive label for this example\n",
    "            j = J[msk_J][indice].squeeze()[1]\n",
    "            positive_indices[i, j] = 1\n",
    "            msk[j] = False\n",
    "            \n",
    "            # initialize the sample_score_margin\n",
    "            sample_score_margin = -1\n",
    "            num_trials = 0\n",
    "            \n",
    "            neg_labels_idx = all_labels_idx[msk]\n",
    "\n",
    "            while ((sample_score_margin < 0) and (num_trials < max_num_trials)):\n",
    "                 \n",
    "                #randomly sample a negative label\n",
    "                neg_idx = np.random.choice(neg_labels_idx, 1)[0]\n",
    "                msk[neg_idx] = False\n",
    "                neg_labels_idx = all_labels_idx[msk]\n",
    "                \n",
    "                num_trials += 1\n",
    "                # calculate the score margin \n",
    "                sample_score_margin = 1 + input[i, neg_idx] - input[i, j] \n",
    "            \n",
    "            if sample_score_margin < 0:\n",
    "                # checks if no violating examples have been found \n",
    "                continue\n",
    "            else: \n",
    "                loss_weight = np.log(np.floor((Y-1)/(num_trials)))\n",
    "                L[i] = loss_weight\n",
    "                negative_indices[i, neg_idx] = 1\n",
    "        \n",
    "        loss = L * (\n",
    "            1 - torch.sum(positive_indices*input, dim = 1) \n",
    "            + torch.sum(negative_indices*input, dim = 1)\n",
    "        )\n",
    "        \n",
    "        ctx.save_for_backward(input, target)\n",
    "        ctx.L = L\n",
    "        ctx.positive_indices = positive_indices\n",
    "        ctx.negative_indices = negative_indices\n",
    "        \n",
    "        return torch.sum(loss , dim = 0, keepdim = True)\n",
    "\n",
    "    # This function has only a single output, so it gets only one gradient \n",
    "    @staticmethod\n",
    "    def backward(ctx, grad_output):\n",
    "        input, target = ctx.saved_tensors\n",
    "        L = Variable(torch.unsqueeze(ctx.L, 1), requires_grad = False)\n",
    "\n",
    "        positive_indices = Variable(ctx.positive_indices, requires_grad = False) \n",
    "        negative_indices = Variable(ctx.negative_indices, requires_grad = False)\n",
    "        grad_input = grad_output * L * (negative_indices - positive_indices)\n",
    "\n",
    "        return grad_input, None, None    \n",
    "\n",
    "      \n",
    "class WARPLoss(nn.Module): \n",
    "    def __init__(self, max_num_trials = None): \n",
    "        super(WARPLoss, self).__init__()\n",
    "        self.max_num_trials = max_num_trials\n",
    "        \n",
    "    def forward(self, input, target): \n",
    "        return WARP.apply(input, target, self.max_num_trials)"
   ]
  },
  {
   "cell_type": "code",
   "execution_count": 6,
   "id": "7bda4063-c7e9-4c90-9646-668c951d01fe",
   "metadata": {},
   "outputs": [],
   "source": [
    "# Define model:\n",
    "class GCP_WARP(torch.nn.Module):\n",
    "    def __init__(self, n_entity, n_relation, n_factors=200, device='cpu'):\n",
    "        super(GCP_WARP, self).__init__()\n",
    "        \n",
    "        # Objects and Subjects are represented as entity_factors:\n",
    "        self.entity_factors = Parameter(\n",
    "            torch.randn(n_entity, n_factors),\n",
    "        )\n",
    "        xavier_normal_(self.entity_factors)\n",
    "        \n",
    "        # Relations between the two entities:\n",
    "        self.relations_factors = Parameter(\n",
    "            torch.randn(n_relation, n_factors),\n",
    "        )\n",
    "        xavier_normal_(self.relations_factors)    \n",
    "    \n",
    "    def forward(self, subjects, relations, objects):\n",
    "        # subjects, relations, objects - are indices\n",
    "        \n",
    "        pred = torch.sum(\n",
    "            (self.entity_factors[subjects] \n",
    "            * self.relations_factors[relations]\n",
    "            * self.entity_factors[objects]),\n",
    "            dim=1,\n",
    "        )\n",
    "        return pred   "
   ]
  },
  {
   "cell_type": "markdown",
   "id": "1e08cea5-2b17-4006-b420-ec2fa70fe25a",
   "metadata": {},
   "source": [
    "dat = np.random.randn(20000, 14000)\n",
    "torch.topk(torch.tensor(dat), 10, dim=1)[1]"
   ]
  },
  {
   "cell_type": "code",
   "execution_count": 7,
   "id": "f2b56859-ce56-4281-a8f2-09d7e43cfd27",
   "metadata": {},
   "outputs": [
    {
     "name": "stdout",
     "output_type": "stream",
     "text": [
      "GCP_WARP()\n"
     ]
    }
   ],
   "source": [
    "n_entity = data_shape[0]\n",
    "n_relation = data_shape[1]\n",
    "n_factors = 200\n",
    "device = torch.device(\"cuda:1\")\n",
    "\n",
    "model = GCP_WARP(n_entity, n_relation, n_factors, device=device).to(device)\n",
    "print(model)"
   ]
  },
  {
   "cell_type": "code",
   "execution_count": 8,
   "id": "99f9dbc0-13d9-4bb5-95c3-5dc45613fc80",
   "metadata": {},
   "outputs": [],
   "source": [
    "def train_batch_warp(train_data, data_shape, sample_positive, model,\n",
    "                     loss_fn, optimizer, un_pair, bs=64,\n",
    "                     show=True, device='cpu'):\n",
    "\n",
    "    user_idx = np.arange(len(un_pair))\n",
    "    np.random.shuffle(user_idx)\n",
    "    batches = np.array_split(user_idx, train_data.shape[0] // bs)\n",
    "    cols = torch.arange(data_shape[2])\n",
    "    \n",
    "    for i, batch in enumerate(batches):\n",
    "        rows = torch.tensor(batch)\n",
    "\n",
    "        # Compute prediction error\n",
    "        rating = torch.zeros((len(un_pair[rows]), data_shape[2])).to(device)\n",
    "        for j in range(rating.shape[0]):\n",
    "            rating[j][sample_positive[tuple(un_pair[rows][j].tolist())]] = 1.0\n",
    "\n",
    "        prediction = model(\n",
    "            torch.repeat_interleave(torch.tensor(un_pair[rows][:, 0]), cols.shape[0]),\n",
    "            torch.repeat_interleave(torch.tensor(un_pair[rows][:, 1]), cols.shape[0]),\n",
    "            torch.tile(cols, (un_pair[rows].shape[0], )),\n",
    "        ).view(un_pair[rows].shape[0], cols.shape[0]).to(torch.float64)\n",
    "\n",
    "        loss = loss_fn(prediction, rating)\n",
    "\n",
    "        # Backpropagation\n",
    "        optimizer.zero_grad()\n",
    "        loss.backward()\n",
    "        optimizer.step()\n",
    "        if show and (i % 10 == 0):\n",
    "            loss, current = loss.item(), i * len(rows)\n",
    "            print(f\"loss: {loss:>7f}  [{current:>5d}/{coords.shape[0]:>5d}]\")"
   ]
  },
  {
   "cell_type": "code",
   "execution_count": 9,
   "id": "71ed85d0-2d65-445e-b483-ea3656dfcff3",
   "metadata": {},
   "outputs": [],
   "source": [
    "epochs = 30\n",
    "\n",
    "optimizer = optim.Adam(model.parameters(), lr=5e-4)\n",
    "#optimizer = torch.optim.SGD(model.parameters(), lr=5e-3, weight_decay=1e-2)\n",
    "loss_fn = WARPLoss(20)\n",
    "un_pair = np.array(list(sample_positive.keys()))\n",
    "batch_size = 64\n",
    "show = False\n",
    "device = torch.device(\"cuda:1\")\n",
    "hr_k = (1, 3, 10)"
   ]
  },
  {
   "cell_type": "code",
   "execution_count": 10,
   "id": "172b87de-dca4-47a3-93cf-0822daf0d413",
   "metadata": {},
   "outputs": [
    {
     "name": "stdout",
     "output_type": "stream",
     "text": [
      "\n",
      "Epoch 1: HR(1, 3, 10), MRR: [0.17867123 0.25463359 0.34992871 0.22838145]; Time: 2.4e+02, 3.5\n",
      "\n",
      "Epoch 3: HR(1, 3, 10), MRR: [0.20815512 0.29472484 0.41123467 0.26575006]; Time: 3.7e+02, 3.4\n",
      "\n",
      "Epoch 5: HR(1, 3, 10), MRR: [0.22309666 0.31400057 0.44060451 0.28447954]; Time: 4e+02, 3.4\n",
      "\n",
      "Epoch 7: HR(1, 3, 10), MRR: [0.22560593 0.32820074 0.45919589 0.29295142]; Time: 4.2e+02, 3.5\n",
      "\n",
      "Epoch 9: HR(1, 3, 10), MRR: [0.23666952 0.34171657 0.47179926 0.30511897]; Time: 4.3e+02, 3.5\n",
      "\n",
      "Epoch 11: HR(1, 3, 10), MRR: [0.2386085  0.34770459 0.47909894 0.3080371 ]; Time: 4.3e+02, 3.5\n",
      "\n",
      "Epoch 13: HR(1, 3, 10), MRR: [0.24100371 0.34810379 0.48645566 0.31158015]; Time: 4.4e+02, 3.5\n",
      "\n",
      "Epoch 15: HR(1, 3, 10), MRR: [0.2423724  0.35500428 0.49250071 0.31479626]; Time: 4.4e+02, 3.5\n",
      "\n",
      "Epoch 17: HR(1, 3, 10), MRR: [0.24248646 0.3546621  0.49147419 0.3151812 ]; Time: 4.4e+02, 3.5\n",
      "\n",
      "Epoch 19: HR(1, 3, 10), MRR: [0.24944397 0.36578272 0.4956373  0.32199981]; Time: 4.4e+02, 3.5\n",
      "\n",
      "Epoch 21: HR(1, 3, 10), MRR: [0.24932991 0.36840605 0.5005988  0.32375876]; Time: 4.4e+02, 3.5\n",
      "\n",
      "Epoch 23: HR(1, 3, 10), MRR: [0.25377816 0.36817793 0.50270887 0.32703656]; Time: 4.4e+02, 3.5\n",
      "\n",
      "Epoch 25: HR(1, 3, 10), MRR: [0.24904477 0.36726547 0.50499002 0.32455013]; Time: 4.4e+02, 3.6\n",
      "\n",
      "Epoch 27: HR(1, 3, 10), MRR: [0.24915883 0.36737953 0.50898204 0.32579055]; Time: 4.4e+02, 3.6\n",
      "\n",
      "Epoch 29: HR(1, 3, 10), MRR: [0.24893071 0.3685201  0.51063587 0.32601477]; Time: 4.4e+02, 3.6\n",
      "\n",
      "Done!\n"
     ]
    }
   ],
   "source": [
    "res = []\n",
    "for epoch in range(epochs):\n",
    "    \n",
    "    start = time.time()\n",
    "    train_batch_warp(\n",
    "        train_data=coords,\n",
    "        data_shape=data_shape,\n",
    "        sample_positive=sample_positive,\n",
    "        model=model,\n",
    "        loss_fn=loss_fn, \n",
    "        optimizer=optimizer, \n",
    "        un_pair=un_pair, \n",
    "        bs=batch_size,\n",
    "        show=show,\n",
    "        device=device,\n",
    "    )\n",
    "    end = time.time() - start\n",
    "    \n",
    "    if epoch % 2 == 0: \n",
    "        a = model.entity_factors.cpu().detach().numpy()\n",
    "        b = model.relations_factors.cpu().detach().numpy()\n",
    "        c = model.entity_factors.cpu().detach().numpy()\n",
    "        \n",
    "        start = time.time()\n",
    "        hr_result = ef.hr(ft, valid_triples, a, b, c, hr_k)\n",
    "        end_hr = time.time() - start\n",
    "        print(f\"\\nEpoch {epoch + 1}: HR{hr_k}, MRR: {hr_result}; Time: {end:.2}, {end_hr:.2}\")\n",
    "        res.append(hr_result)\n",
    "print(\"\\nDone!\")"
   ]
  },
  {
   "cell_type": "code",
   "execution_count": null,
   "id": "02e6d558-59f7-4c12-931e-1f130b3f7be0",
   "metadata": {},
   "outputs": [],
   "source": [
    "with open('gcp_warp_hr.pickle', 'wb') as f:\n",
    "     pickle.dump(res, f)"
   ]
  },
  {
   "cell_type": "code",
   "execution_count": 2,
   "id": "5d8c6fc8-dfe2-4c3d-8d92-7e471a9107c9",
   "metadata": {},
   "outputs": [],
   "source": [
    "with open('gcp_warp_hr.pickle', 'rb') as f:\n",
    "     res = pickle.load(f)"
   ]
  },
  {
   "cell_type": "code",
   "execution_count": 9,
   "id": "f2021151-a4b1-4a56-9795-89c0f627f24c",
   "metadata": {},
   "outputs": [],
   "source": [
    "hr_10 = [res[i][2] for i in range(15)]\n",
    "mrr_10 = [res[i][3] for i in range(15)]"
   ]
  },
  {
   "cell_type": "code",
   "execution_count": 12,
   "id": "9c07085e-9954-4d4e-bf08-1216133f03f5",
   "metadata": {},
   "outputs": [
    {
     "data": {
      "text/plain": [
       "Text(0.5, 1.0, 'FB15k-237')"
      ]
     },
     "execution_count": 12,
     "metadata": {},
     "output_type": "execute_result"
    },
    {
     "data": {
      "image/png": "[encoded data removed]",
      "text/plain": [
       "<Figure size 432x288 with 1 Axes>"
      ]
     },
     "metadata": {
      "needs_background": "light"
     },
     "output_type": "display_data"
    }
   ],
   "source": [
    "color = \"#8b0a50\"\n",
    "plt.plot(\n",
    "    list(range(0, 30, 2)),\n",
    "    hr_10,\n",
    "    '-*', c=color,\n",
    ")\n",
    "\n",
    "plt.grid()\n",
    "plt.xlabel('Rank')\n",
    "plt.ylabel('HR@10')\n",
    "plt.title(\"FB15k-237\")"
   ]
  },
  {
   "cell_type": "code",
   "execution_count": 13,
   "id": "8584c0dc-ff4d-481a-aecb-d28566f1f379",
   "metadata": {},
   "outputs": [
    {
     "data": {
      "text/plain": [
       "Text(0.5, 1.0, 'FB15k-237')"
      ]
     },
     "execution_count": 13,
     "metadata": {},
     "output_type": "execute_result"
    },
    {
     "data": {
      "image/png": "[encoded data removed]",
      "text/plain": [
       "<Figure size 432x288 with 1 Axes>"
      ]
     },
     "metadata": {
      "needs_background": "light"
     },
     "output_type": "display_data"
    }
   ],
   "source": [
    "color = \"red\"\n",
    "plt.plot(\n",
    "    list(range(0, 30, 2)),\n",
    "    mrr_10,\n",
    "    '-*', c=color,\n",
    ")\n",
    "\n",
    "plt.grid()\n",
    "plt.xlabel('Rank')\n",
    "plt.ylabel('MRR@10')\n",
    "plt.title(\"FB15k-237\")"
   ]
  },
  {
   "cell_type": "code",
   "execution_count": null,
   "id": "bc1d2e81-96dc-45d2-b1a3-89058caa6d8a",
   "metadata": {},
   "outputs": [],
   "source": []
  }
 ],
 "metadata": {
  "kernelspec": {
   "display_name": "Python 3 (ipykernel)",
   "language": "python",
   "name": "python3"
  },
  "language_info": {
   "codemirror_mode": {
    "name": "ipython",
    "version": 3
   },
   "file_extension": ".py",
   "mimetype": "text/x-python",
   "name": "python",
   "nbconvert_exporter": "python",
   "pygments_lexer": "ipython3",
   "version": "3.8.10"
  }
 },
 "nbformat": 4,
 "nbformat_minor": 5
}
